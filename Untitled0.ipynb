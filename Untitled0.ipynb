{
 "metadata": {
  "name": "",
  "signature": "sha256:a0f46f2d829a3765bd934353dc248a9f1ed8bfe468e0e83631862c4e1454fb35"
 },
 "nbformat": 3,
 "nbformat_minor": 0,
 "worksheets": [
  {
   "cells": [
    {
     "cell_type": "code",
     "collapsed": false,
     "input": [
      "%pylab inline\n",
      "import numpy as np\n",
      "import matplotlib.pyplot as plt\n",
      "from mpl_toolkits.mplot3d import Axes3D\n",
      "from scipy.misc import imread"
     ],
     "language": "python",
     "metadata": {},
     "outputs": [
      {
       "output_type": "stream",
       "stream": "stdout",
       "text": [
        "Populating the interactive namespace from numpy and matplotlib\n"
       ]
      },
      {
       "output_type": "stream",
       "stream": "stderr",
       "text": [
        "WARNING: pylab import has clobbered these variables: ['imread']\n",
        "`%matplotlib` prevents importing * from pylab and numpy\n"
       ]
      }
     ],
     "prompt_number": 33
    },
    {
     "cell_type": "code",
     "collapsed": false,
     "input": [
      "n_points=100\n",
      "tiempo=2500\n",
      "delta_x=1\n",
      "v=1\n",
      "delta_t=0.25*delta_x*delta_x/v\n",
      "alpha=v*delta_t/delta_x #needs to be less than 1/2\n",
      "print(delta_t)"
     ],
     "language": "python",
     "metadata": {},
     "outputs": [
      {
       "output_type": "stream",
       "stream": "stdout",
       "text": [
        "0.25\n"
       ]
      }
     ],
     "prompt_number": 34
    },
    {
     "cell_type": "code",
     "collapsed": false,
     "input": [
      "Ti=np.zeros((100,100))\n",
      "for i in range(100):\n",
      "        for j in range(100):\n",
      "            if j<55 and j>45 and i>20 and i<40:\n",
      "                Ti[i,j]=100\n",
      "            else :\n",
      "                Ti[i,j]=50\n",
      "print(Ti)"
     ],
     "language": "python",
     "metadata": {},
     "outputs": [
      {
       "output_type": "stream",
       "stream": "stdout",
       "text": [
        "[[ 50.  50.  50. ...,  50.  50.  50.]\n",
        " [ 50.  50.  50. ...,  50.  50.  50.]\n",
        " [ 50.  50.  50. ...,  50.  50.  50.]\n",
        " ..., \n",
        " [ 50.  50.  50. ...,  50.  50.  50.]\n",
        " [ 50.  50.  50. ...,  50.  50.  50.]\n",
        " [ 50.  50.  50. ...,  50.  50.  50.]]\n"
       ]
      }
     ],
     "prompt_number": 35
    },
    {
     "cell_type": "code",
     "collapsed": false,
     "input": [
      "Tf=np.zeros((100, 100))\n",
      "Tf[0,0]=0.0\n",
      "Tf[n_points-1, n_points-1]=0.0\n",
      "Tp=Ti.copy()\n",
      "print(Tf, Tp)"
     ],
     "language": "python",
     "metadata": {},
     "outputs": [
      {
       "output_type": "stream",
       "stream": "stdout",
       "text": [
        "(array([[ 0.,  0.,  0., ...,  0.,  0.,  0.],\n",
        "       [ 0.,  0.,  0., ...,  0.,  0.,  0.],\n",
        "       [ 0.,  0.,  0., ...,  0.,  0.,  0.],\n",
        "       ..., \n",
        "       [ 0.,  0.,  0., ...,  0.,  0.,  0.],\n",
        "       [ 0.,  0.,  0., ...,  0.,  0.,  0.],\n",
        "       [ 0.,  0.,  0., ...,  0.,  0.,  0.]]), array([[ 50.,  50.,  50., ...,  50.,  50.,  50.],\n",
        "       [ 50.,  50.,  50., ...,  50.,  50.,  50.],\n",
        "       [ 50.,  50.,  50., ...,  50.,  50.,  50.],\n",
        "       ..., \n",
        "       [ 50.,  50.,  50., ...,  50.,  50.,  50.],\n",
        "       [ 50.,  50.,  50., ...,  50.,  50.,  50.],\n",
        "       [ 50.,  50.,  50., ...,  50.,  50.,  50.]]))\n"
       ]
      }
     ],
     "prompt_number": 36
    },
    {
     "cell_type": "code",
     "collapsed": false,
     "input": [
      "#caso 1 Ti=100, caso 2 T=100\n",
      "\n",
      "def difusion(caso, frontera, Tp):\n",
      "    for k in range(1, tiempo):\n",
      "        for i in range(1, n_points-1):\n",
      "            for j in range(1, n_points-1):\n",
      "                Tf[i,j]=((alpha*alpha)*((Tp[i+1, j]+Tp[i-1,j])+(Tp[i,j+1]+Tp[i,j-1])))+((1-(4*alpha))*Tp[i,j])\n",
      "                if (frontera== \"fijas\"):\n",
      "                    if caso=='caso1':\n",
      "                        Tf[:,99]=50.0\n",
      "                        Tf[:, 0]=50.0\n",
      "                        Tf[99,:]=50.0\n",
      "                        Tf[0, :]=50.0\n",
      "                    if caso=='caso2':\n",
      "                        for f in range(45,55):\n",
      "                            for c in range(20,40):\n",
      "                                Tf[f,c]=100.0\n",
      "                                Tf[:,99]=50.0\n",
      "                                Tf[:, 0]=50.0\n",
      "                                Tf[99,:]=50.0\n",
      "                                Tf[0, :]=50.0\n",
      "                if (frontera=='abiertas'):\n",
      "                    if caso== 'caso1':\n",
      "                        Tf[:,99]=Tf[:,98]\n",
      "                        Tf[:, 0]=Tf[:, 1]\n",
      "                        Tf[99,:]=Tf[98,:]\n",
      "                        Tf[0, :]=Tf[1, :]\n",
      "                    if caso== 'caso2':\n",
      "                        for f in range(45,55):\n",
      "                            for c in range(20,40):\n",
      "                                Tf[f,c]=100.0\n",
      "                                Tf[:,99]=Tf[:,98]\n",
      "                                Tf[:, 0]=Tf[:, 1]\n",
      "                                Tf[99,:]=Tf[98,:]\n",
      "                                Tf[0, :]=Tf[1, :]\n",
      "                if (frontera=='periodicas'):\n",
      "                    if caso== 'caso1':\n",
      "                        Tf[:,99]==Tf[:, 1]\n",
      "                        Tf[:, 0]==Tf[:,98]\n",
      "                        Tf[99,:]==Tf[0, :]\n",
      "                        Tf[0, :]==Tf[98,0]\n",
      "                    if caso== 'caso2':\n",
      "                        for f in range(45,55):\n",
      "                            for c in range(20,40):\n",
      "                                Tf[f,c]=100.0\n",
      "                                Tf[:,99]==Tf[:, 1]\n",
      "                                Tf[:, 0]==Tf[:,98]\n",
      "                                Tf[99,:]==Tf[0, :]\n",
      "                                Tf[0, :]==Tf[98,0]                               \n",
      "                Tp=Tf.copy()\n",
      "\treturn (Tf)\n"
     ],
     "language": "python",
     "metadata": {},
     "outputs": [],
     "prompt_number": 44
    },
    {
     "cell_type": "code",
     "collapsed": false,
     "input": [
      "#def graficas(x, y, Tf):\n",
      "#http://www.peterbeerli.com/classes/images/2/26/Isc4304matplotlib6.pdf\n",
      "#x= [1, 2, 3, 4, 5, 6, 7, 8, 9, 10]\n",
      "#y=[10, 9, 8, 7, 6, 5, 4, 3, 2, 1]\n",
      "#Tf=[1, 1, 1, 1, 1, 1, 1, 1, 1, 1]\n",
      "#x, y, Tf= meshgrid(phi_p, phi_m)\n",
      "\n",
      "fig=plt.figure(figsize=(8,6))\n",
      "ax= fig.add_subplot(1,1,1, projection='3d')\n",
      "#p= ax.plotwireframe(x, y, Tf)\n",
      "ax.plot_surface( x, y, Tf, rstride=4, cstride=4, alpha=0.25)\n",
      "\n",
      "\n"
     ],
     "language": "python",
     "metadata": {},
     "outputs": [
      {
       "metadata": {},
       "output_type": "pyout",
       "prompt_number": 30,
       "text": [
        "<mpl_toolkits.mplot3d.art3d.Poly3DCollection at 0x7fb159a22e50>"
       ]
      },
      {
       "metadata": {},
       "output_type": "display_data",
       "png": "[encoded data removed]",
       "text": [
        "<matplotlib.figure.Figure at 0x7fb1599ed410>"
       ]
      }
     ],
     "prompt_number": 30
    },
    {
     "cell_type": "code",
     "collapsed": false,
     "input": [
      "caso_1_fijas= difusion('caso1', 'fijas', Tp)\n",
      "caso_2_fijas= difusion('caso2', 'fijas', Tp)\n",
      "\n",
      "caso_1_abiertas=difusion('caso1', 'abiertas', Tp)\n",
      "caso_2_abiertas=difusion('caso2', 'abiertas', Tp)\n",
      "\n",
      "caso_1_periodicas=difusion('caso1', 'periodicas', Tp)\n",
      "caso_2_periodicas=difusion('caso2', 'periodicas', Tp)"
     ],
     "language": "python",
     "metadata": {},
     "outputs": []
    },
    {
     "cell_type": "code",
     "collapsed": false,
     "input": [
      "#graficas\n",
      "#t=0 caso1, fija\n",
      "\n",
      "#t=0 caso1, abierta\n",
      "\n",
      "#t=0 caso1, periodicas\n",
      "#t=0 caso2, fija\n",
      "#t=0 caso2, abierta\n",
      "#t=0 caso2, periodicas\n",
      "\n",
      "#t=100 caso1, fija\n",
      "#t=100 caso1, abierta\n",
      "#t=100 caso1, periodicas\n",
      "#t=100 caso2, fija\n",
      "#t=100 caso2, abierta\n",
      "#t=100 caso2, periodicas\n",
      "\n",
      "#t=2500 caso1, fija\n",
      "#t=2500 caso1, abierta\n",
      "#t=2500 caso1, periodicas\n",
      "#t=2500 caso2, fija\n",
      "#t=2500 caso2, abierta\n",
      "#t=2500 caso2, periodicas\n",
      "\n",
      "#t_mean caso1, fija\n",
      "#t_mean caso1, abierta\n",
      "#t_mean caso1, periodicas\n",
      "#t_mean caso2, fija\n",
      "#t_mean caso2, abierta\n",
      "#t_mean caso2, periodicas"
     ],
     "language": "python",
     "metadata": {},
     "outputs": []
    }
   ],
   "metadata": {}
  }
 ]
}