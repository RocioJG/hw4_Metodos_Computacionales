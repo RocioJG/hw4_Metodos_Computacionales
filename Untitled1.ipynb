{
 "metadata": {
  "name": "",
  "signature": "sha256:baeaf9b58b408767b1359b3a7eeae6c35c8db2b5c85c1734cb0e36530bb188dd"
 },
 "nbformat": 3,
 "nbformat_minor": 0,
 "worksheets": [
  {
   "cells": [
    {
     "cell_type": "code",
     "collapsed": false,
     "input": [
      "from mpl_toolkits.mplot3d import Axes3D         # Cargo Axes3D de mpl_toolkits.mplot3d\n",
      "from scipy.misc import imread                   # Cargo imread de scipy.misc\n",
      "import numpy as np                              # Cargo numpy como el aliaas np\n",
      "import matplotlib.pyplot as plt                 # Cargo matplotlib.pyplot  en el alias sp"
     ],
     "language": "python",
     "metadata": {},
     "outputs": [],
     "prompt_number": 1
    },
    {
     "cell_type": "code",
     "collapsed": false,
     "input": [],
     "language": "python",
     "metadata": {},
     "outputs": []
    }
   ],
   "metadata": {}
  }
 ]
}